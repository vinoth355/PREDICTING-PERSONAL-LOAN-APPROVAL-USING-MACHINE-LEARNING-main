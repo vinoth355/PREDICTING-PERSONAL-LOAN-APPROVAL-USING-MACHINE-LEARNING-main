{
 "cells": [
  {
   "cell_type": "code",
   "execution_count": 24,
   "source": [
    "import pandas as pd\r\n",
    "import numpy as np\r\n",
    "import pickle\r\n",
    "import matplotlib.pyplot as plt\r\n",
    "%matplotlib inline\r\n",
    "import seaborn as sns\r\n",
    "import sklearn\r\n",
    "from sklearn.tree import DecisionTreeClassifier\r\n",
    "from sklearn.ensemble import GradientBoostingClassifier, RandomForestClassifier\r\n",
    "from sklearn.neighbors import KNeighborsClassifier\r\n",
    "from sklearn.model_selection import RandomizedSearchCV\r\n",
    "import imblearn\r\n",
    "from sklearn.model_selection import train_test_split\r\n",
    "from sklearn.preprocessing import StandardScaler\r\n",
    "from sklearn.metrics import accuracy_score, classification_report, confusion_matrix, f1_score"
   ],
   "outputs": [],
   "metadata": {}
  },
  {
   "cell_type": "code",
   "execution_count": 25,
   "source": [
    "# read the data set"
   ],
   "outputs": [],
   "metadata": {}
  },
  {
   "cell_type": "code",
   "execution_count": 26,
   "source": [
    "import os"
   ],
   "outputs": [],
   "metadata": {}
  },
  {
   "cell_type": "code",
   "execution_count": 27,
   "source": [
    "os.getcwd()"
   ],
   "outputs": [
    {
     "output_type": "execute_result",
     "data": {
      "text/plain": [
       "'C:\\\\Users\\\\LENOVO'"
      ]
     },
     "metadata": {},
     "execution_count": 27
    }
   ],
   "metadata": {}
  },
  {
   "cell_type": "code",
   "execution_count": 28,
   "source": [
    "import pandas as pd"
   ],
   "outputs": [],
   "metadata": {}
  },
  {
   "cell_type": "code",
   "execution_count": 29,
   "source": [
    "\r\n",
    "#read the data set"
   ],
   "outputs": [],
   "metadata": {}
  },
  {
   "cell_type": "code",
   "execution_count": 30,
   "source": [
    "data = pd.read_csv(\"D:\\\\PREDICTING PERSONAL LOAN APPROVAL USING MACHINE LEARNING\\\\Dataset\\\\loan.csv\")"
   ],
   "outputs": [],
   "metadata": {
    "scrolled": false
   }
  },
  {
   "cell_type": "code",
   "execution_count": 31,
   "source": [
    "data.head()"
   ],
   "outputs": [
    {
     "output_type": "execute_result",
     "data": {
      "text/html": [
       "<div>\n",
       "<style scoped>\n",
       "    .dataframe tbody tr th:only-of-type {\n",
       "        vertical-align: middle;\n",
       "    }\n",
       "\n",
       "    .dataframe tbody tr th {\n",
       "        vertical-align: top;\n",
       "    }\n",
       "\n",
       "    .dataframe thead th {\n",
       "        text-align: right;\n",
       "    }\n",
       "</style>\n",
       "<table border=\"1\" class=\"dataframe\">\n",
       "  <thead>\n",
       "    <tr style=\"text-align: right;\">\n",
       "      <th></th>\n",
       "      <th>Loan_ID</th>\n",
       "      <th>Gender</th>\n",
       "      <th>Married</th>\n",
       "      <th>Dependents</th>\n",
       "      <th>Education</th>\n",
       "      <th>Self_Employed</th>\n",
       "      <th>ApplicantIncome</th>\n",
       "      <th>CoapplicantIncome</th>\n",
       "      <th>LoanAmount</th>\n",
       "      <th>Loan_Amount_Term</th>\n",
       "      <th>Credit_History</th>\n",
       "      <th>Property_Area</th>\n",
       "      <th>Loan_Status</th>\n",
       "    </tr>\n",
       "  </thead>\n",
       "  <tbody>\n",
       "    <tr>\n",
       "      <th>0</th>\n",
       "      <td>LP001002</td>\n",
       "      <td>Male</td>\n",
       "      <td>No</td>\n",
       "      <td>0</td>\n",
       "      <td>Graduate</td>\n",
       "      <td>No</td>\n",
       "      <td>5849</td>\n",
       "      <td>0.0</td>\n",
       "      <td>NaN</td>\n",
       "      <td>360.0</td>\n",
       "      <td>1.0</td>\n",
       "      <td>Urban</td>\n",
       "      <td>Y</td>\n",
       "    </tr>\n",
       "    <tr>\n",
       "      <th>1</th>\n",
       "      <td>LP001003</td>\n",
       "      <td>Male</td>\n",
       "      <td>Yes</td>\n",
       "      <td>1</td>\n",
       "      <td>Graduate</td>\n",
       "      <td>No</td>\n",
       "      <td>4583</td>\n",
       "      <td>1508.0</td>\n",
       "      <td>128.0</td>\n",
       "      <td>360.0</td>\n",
       "      <td>1.0</td>\n",
       "      <td>Rural</td>\n",
       "      <td>N</td>\n",
       "    </tr>\n",
       "    <tr>\n",
       "      <th>2</th>\n",
       "      <td>LP001005</td>\n",
       "      <td>Male</td>\n",
       "      <td>Yes</td>\n",
       "      <td>0</td>\n",
       "      <td>Graduate</td>\n",
       "      <td>Yes</td>\n",
       "      <td>3000</td>\n",
       "      <td>0.0</td>\n",
       "      <td>66.0</td>\n",
       "      <td>360.0</td>\n",
       "      <td>1.0</td>\n",
       "      <td>Urban</td>\n",
       "      <td>Y</td>\n",
       "    </tr>\n",
       "    <tr>\n",
       "      <th>3</th>\n",
       "      <td>LP001006</td>\n",
       "      <td>Male</td>\n",
       "      <td>Yes</td>\n",
       "      <td>0</td>\n",
       "      <td>Not Graduate</td>\n",
       "      <td>No</td>\n",
       "      <td>2583</td>\n",
       "      <td>2358.0</td>\n",
       "      <td>120.0</td>\n",
       "      <td>360.0</td>\n",
       "      <td>1.0</td>\n",
       "      <td>Urban</td>\n",
       "      <td>Y</td>\n",
       "    </tr>\n",
       "    <tr>\n",
       "      <th>4</th>\n",
       "      <td>LP001008</td>\n",
       "      <td>Male</td>\n",
       "      <td>No</td>\n",
       "      <td>0</td>\n",
       "      <td>Graduate</td>\n",
       "      <td>No</td>\n",
       "      <td>6000</td>\n",
       "      <td>0.0</td>\n",
       "      <td>141.0</td>\n",
       "      <td>360.0</td>\n",
       "      <td>1.0</td>\n",
       "      <td>Urban</td>\n",
       "      <td>Y</td>\n",
       "    </tr>\n",
       "  </tbody>\n",
       "</table>\n",
       "</div>"
      ],
      "text/plain": [
       "    Loan_ID Gender Married Dependents     Education Self_Employed  \\\n",
       "0  LP001002   Male      No          0      Graduate            No   \n",
       "1  LP001003   Male     Yes          1      Graduate            No   \n",
       "2  LP001005   Male     Yes          0      Graduate           Yes   \n",
       "3  LP001006   Male     Yes          0  Not Graduate            No   \n",
       "4  LP001008   Male      No          0      Graduate            No   \n",
       "\n",
       "   ApplicantIncome  CoapplicantIncome  LoanAmount  Loan_Amount_Term  \\\n",
       "0             5849                0.0         NaN             360.0   \n",
       "1             4583             1508.0       128.0             360.0   \n",
       "2             3000                0.0        66.0             360.0   \n",
       "3             2583             2358.0       120.0             360.0   \n",
       "4             6000                0.0       141.0             360.0   \n",
       "\n",
       "   Credit_History Property_Area Loan_Status  \n",
       "0             1.0         Urban           Y  \n",
       "1             1.0         Rural           N  \n",
       "2             1.0         Urban           Y  \n",
       "3             1.0         Urban           Y  \n",
       "4             1.0         Urban           Y  "
      ]
     },
     "metadata": {},
     "execution_count": 31
    }
   ],
   "metadata": {
    "scrolled": true
   }
  },
  {
   "cell_type": "code",
   "execution_count": 32,
   "source": [
    "data.tail()"
   ],
   "outputs": [
    {
     "output_type": "execute_result",
     "data": {
      "text/html": [
       "<div>\n",
       "<style scoped>\n",
       "    .dataframe tbody tr th:only-of-type {\n",
       "        vertical-align: middle;\n",
       "    }\n",
       "\n",
       "    .dataframe tbody tr th {\n",
       "        vertical-align: top;\n",
       "    }\n",
       "\n",
       "    .dataframe thead th {\n",
       "        text-align: right;\n",
       "    }\n",
       "</style>\n",
       "<table border=\"1\" class=\"dataframe\">\n",
       "  <thead>\n",
       "    <tr style=\"text-align: right;\">\n",
       "      <th></th>\n",
       "      <th>Loan_ID</th>\n",
       "      <th>Gender</th>\n",
       "      <th>Married</th>\n",
       "      <th>Dependents</th>\n",
       "      <th>Education</th>\n",
       "      <th>Self_Employed</th>\n",
       "      <th>ApplicantIncome</th>\n",
       "      <th>CoapplicantIncome</th>\n",
       "      <th>LoanAmount</th>\n",
       "      <th>Loan_Amount_Term</th>\n",
       "      <th>Credit_History</th>\n",
       "      <th>Property_Area</th>\n",
       "      <th>Loan_Status</th>\n",
       "    </tr>\n",
       "  </thead>\n",
       "  <tbody>\n",
       "    <tr>\n",
       "      <th>609</th>\n",
       "      <td>LP002978</td>\n",
       "      <td>Female</td>\n",
       "      <td>No</td>\n",
       "      <td>0</td>\n",
       "      <td>Graduate</td>\n",
       "      <td>No</td>\n",
       "      <td>2900</td>\n",
       "      <td>0.0</td>\n",
       "      <td>71.0</td>\n",
       "      <td>360.0</td>\n",
       "      <td>1.0</td>\n",
       "      <td>Rural</td>\n",
       "      <td>Y</td>\n",
       "    </tr>\n",
       "    <tr>\n",
       "      <th>610</th>\n",
       "      <td>LP002979</td>\n",
       "      <td>Male</td>\n",
       "      <td>Yes</td>\n",
       "      <td>3+</td>\n",
       "      <td>Graduate</td>\n",
       "      <td>No</td>\n",
       "      <td>4106</td>\n",
       "      <td>0.0</td>\n",
       "      <td>40.0</td>\n",
       "      <td>180.0</td>\n",
       "      <td>1.0</td>\n",
       "      <td>Rural</td>\n",
       "      <td>Y</td>\n",
       "    </tr>\n",
       "    <tr>\n",
       "      <th>611</th>\n",
       "      <td>LP002983</td>\n",
       "      <td>Male</td>\n",
       "      <td>Yes</td>\n",
       "      <td>1</td>\n",
       "      <td>Graduate</td>\n",
       "      <td>No</td>\n",
       "      <td>8072</td>\n",
       "      <td>240.0</td>\n",
       "      <td>253.0</td>\n",
       "      <td>360.0</td>\n",
       "      <td>1.0</td>\n",
       "      <td>Urban</td>\n",
       "      <td>Y</td>\n",
       "    </tr>\n",
       "    <tr>\n",
       "      <th>612</th>\n",
       "      <td>LP002984</td>\n",
       "      <td>Male</td>\n",
       "      <td>Yes</td>\n",
       "      <td>2</td>\n",
       "      <td>Graduate</td>\n",
       "      <td>No</td>\n",
       "      <td>7583</td>\n",
       "      <td>0.0</td>\n",
       "      <td>187.0</td>\n",
       "      <td>360.0</td>\n",
       "      <td>1.0</td>\n",
       "      <td>Urban</td>\n",
       "      <td>Y</td>\n",
       "    </tr>\n",
       "    <tr>\n",
       "      <th>613</th>\n",
       "      <td>LP002990</td>\n",
       "      <td>Female</td>\n",
       "      <td>No</td>\n",
       "      <td>0</td>\n",
       "      <td>Graduate</td>\n",
       "      <td>Yes</td>\n",
       "      <td>4583</td>\n",
       "      <td>0.0</td>\n",
       "      <td>133.0</td>\n",
       "      <td>360.0</td>\n",
       "      <td>0.0</td>\n",
       "      <td>Semiurban</td>\n",
       "      <td>N</td>\n",
       "    </tr>\n",
       "  </tbody>\n",
       "</table>\n",
       "</div>"
      ],
      "text/plain": [
       "      Loan_ID  Gender Married Dependents Education Self_Employed  \\\n",
       "609  LP002978  Female      No          0  Graduate            No   \n",
       "610  LP002979    Male     Yes         3+  Graduate            No   \n",
       "611  LP002983    Male     Yes          1  Graduate            No   \n",
       "612  LP002984    Male     Yes          2  Graduate            No   \n",
       "613  LP002990  Female      No          0  Graduate           Yes   \n",
       "\n",
       "     ApplicantIncome  CoapplicantIncome  LoanAmount  Loan_Amount_Term  \\\n",
       "609             2900                0.0        71.0             360.0   \n",
       "610             4106                0.0        40.0             180.0   \n",
       "611             8072              240.0       253.0             360.0   \n",
       "612             7583                0.0       187.0             360.0   \n",
       "613             4583                0.0       133.0             360.0   \n",
       "\n",
       "     Credit_History Property_Area Loan_Status  \n",
       "609             1.0         Rural           Y  \n",
       "610             1.0         Rural           Y  \n",
       "611             1.0         Urban           Y  \n",
       "612             1.0         Urban           Y  \n",
       "613             0.0     Semiurban           N  "
      ]
     },
     "metadata": {},
     "execution_count": 32
    }
   ],
   "metadata": {
    "scrolled": true
   }
  },
  {
   "cell_type": "code",
   "execution_count": 33,
   "source": [
    "data.Loan_Status.value_counts()"
   ],
   "outputs": [
    {
     "output_type": "execute_result",
     "data": {
      "text/plain": [
       "Y    422\n",
       "N    192\n",
       "Name: Loan_Status, dtype: int64"
      ]
     },
     "metadata": {},
     "execution_count": 33
    }
   ],
   "metadata": {}
  },
  {
   "cell_type": "code",
   "execution_count": 34,
   "source": [
    "data.shape"
   ],
   "outputs": [
    {
     "output_type": "execute_result",
     "data": {
      "text/plain": [
       "(614, 13)"
      ]
     },
     "metadata": {},
     "execution_count": 34
    }
   ],
   "metadata": {}
  },
  {
   "cell_type": "code",
   "execution_count": 35,
   "source": [
    "# handling missing values"
   ],
   "outputs": [],
   "metadata": {}
  },
  {
   "cell_type": "code",
   "execution_count": 36,
   "source": [
    "data.info()"
   ],
   "outputs": [
    {
     "output_type": "stream",
     "name": "stdout",
     "text": [
      "<class 'pandas.core.frame.DataFrame'>\n",
      "RangeIndex: 614 entries, 0 to 613\n",
      "Data columns (total 13 columns):\n",
      " #   Column             Non-Null Count  Dtype  \n",
      "---  ------             --------------  -----  \n",
      " 0   Loan_ID            614 non-null    object \n",
      " 1   Gender             601 non-null    object \n",
      " 2   Married            611 non-null    object \n",
      " 3   Dependents         599 non-null    object \n",
      " 4   Education          614 non-null    object \n",
      " 5   Self_Employed      582 non-null    object \n",
      " 6   ApplicantIncome    614 non-null    int64  \n",
      " 7   CoapplicantIncome  614 non-null    float64\n",
      " 8   LoanAmount         592 non-null    float64\n",
      " 9   Loan_Amount_Term   600 non-null    float64\n",
      " 10  Credit_History     564 non-null    float64\n",
      " 11  Property_Area      614 non-null    object \n",
      " 12  Loan_Status        614 non-null    object \n",
      "dtypes: float64(4), int64(1), object(8)\n",
      "memory usage: 62.5+ KB\n"
     ]
    }
   ],
   "metadata": {}
  },
  {
   "cell_type": "code",
   "execution_count": 37,
   "source": [
    "# finding the sum of null values in each column"
   ],
   "outputs": [],
   "metadata": {}
  },
  {
   "cell_type": "code",
   "execution_count": 38,
   "source": [
    "data.isnull().sum()"
   ],
   "outputs": [
    {
     "output_type": "execute_result",
     "data": {
      "text/plain": [
       "Loan_ID               0\n",
       "Gender               13\n",
       "Married               3\n",
       "Dependents           15\n",
       "Education             0\n",
       "Self_Employed        32\n",
       "ApplicantIncome       0\n",
       "CoapplicantIncome     0\n",
       "LoanAmount           22\n",
       "Loan_Amount_Term     14\n",
       "Credit_History       50\n",
       "Property_Area         0\n",
       "Loan_Status           0\n",
       "dtype: int64"
      ]
     },
     "metadata": {},
     "execution_count": 38
    }
   ],
   "metadata": {}
  },
  {
   "cell_type": "code",
   "execution_count": 39,
   "source": [
    "#filling missing values"
   ],
   "outputs": [],
   "metadata": {}
  },
  {
   "cell_type": "code",
   "execution_count": 40,
   "source": [
    "\r\n",
    "data['Gender'] = data['Gender'].fillna(data['Gender'].mode()[0])\r\n",
    "data['Married'] = data['Married'].fillna(data['Married'].mode()[0])\r\n",
    "#replacing + with space for filling the non values\r\n",
    "data['Dependents'] = data['Dependents'].str.replace('+','')\r\n",
    "data['Dependents'] = data['Dependents'].fillna(data['Dependents'].mode()[0])\r\n",
    "data['Self_Employed'] = data['Self_Employed'].fillna(data['Self_Employed'].mode()[0])\r\n",
    "data['LoanAmount'] = data['LoanAmount'].fillna(data['LoanAmount'].mode()[0])\r\n",
    "data['Loan_Amount_Term'] = data['Loan_Amount_Term'].fillna(data['Loan_Amount_Term'].mode()[0])\r\n",
    "data['Credit_History'] = data['Credit_History'].fillna(data['Credit_History'].mode()[0])\r\n",
    "#data['LoanAmount'].fillna(value = data'LoanAmount'].mean(), inplace = True )\r\n"
   ],
   "outputs": [
    {
     "output_type": "stream",
     "name": "stderr",
     "text": [
      "C:\\Users\\LENOVO\\AppData\\Local\\Temp\\ipykernel_7568\\3433406654.py:4: FutureWarning: The default value of regex will change from True to False in a future version. In addition, single character regular expressions will *not* be treated as literal strings when regex=True.\n",
      "  data['Dependents'] = data['Dependents'].str.replace('+','')\n"
     ]
    }
   ],
   "metadata": {}
  },
  {
   "cell_type": "code",
   "execution_count": 41,
   "source": [
    "# handling catogorical values"
   ],
   "outputs": [],
   "metadata": {}
  },
  {
   "cell_type": "code",
   "execution_count": 42,
   "source": [
    "# changing the datatype of each float column to int\r\n",
    "data['CoapplicantIncome']=data['CoapplicantIncome'].astype('int64')\r\n",
    "data['LoanAmount']=data['LoanAmount'].astype('int64')\r\n",
    "data['Loan_Amount_Term']=data['Loan_Amount_Term'].astype('int64')\r\n",
    "data['Credit_History']=data['Credit_History'].astype('int64')\r\n"
   ],
   "outputs": [],
   "metadata": {}
  },
  {
   "cell_type": "code",
   "execution_count": 43,
   "source": [
    "# handling imbalance data"
   ],
   "outputs": [],
   "metadata": {}
  },
  {
   "cell_type": "code",
   "execution_count": 44,
   "source": [
    "# balancing  the dataset by using smote\r\n",
    "from imblearn.combine import SMOTETomek"
   ],
   "outputs": [],
   "metadata": {}
  },
  {
   "cell_type": "code",
   "execution_count": null,
   "source": [
    "#dividing the dataset into dependent and independent y and x respectively\r\n",
    "y = data['Loan_Status']\r\n",
    "x = data.drop(columns=['Loan_Status'],axis=1)"
   ],
   "outputs": [],
   "metadata": {}
  },
  {
   "cell_type": "code",
   "execution_count": null,
   "source": [
    "#exploratory data analysis \r\n",
    "#descriptive statistical\r\n",
    "data.describe()"
   ],
   "outputs": [],
   "metadata": {
    "scrolled": true
   }
  },
  {
   "cell_type": "code",
   "execution_count": null,
   "source": [
    "#visual analysis\r\n",
    "#Univariate analysis"
   ],
   "outputs": [],
   "metadata": {}
  },
  {
   "cell_type": "code",
   "execution_count": 46,
   "source": [
    "# plotting the using displot\r\n",
    "plt.figure(figsize=(12,5))\r\n",
    "plt.subplot(121)\r\n",
    "sns.distplot(data['ApplicantIncome'], color='r')\r\n",
    "plt.subplot(122)\r\n",
    "sns.distplot(data['Credit_History'])\r\n",
    "plt.show()"
   ],
   "outputs": [
    {
     "output_type": "stream",
     "name": "stderr",
     "text": [
      "C:\\Users\\LENOVO\\AppData\\Local\\Temp\\ipykernel_7568\\1445803926.py:4: UserWarning: \n",
      "\n",
      "`distplot` is a deprecated function and will be removed in seaborn v0.14.0.\n",
      "\n",
      "Please adapt your code to use either `displot` (a figure-level function with\n",
      "similar flexibility) or `histplot` (an axes-level function for histograms).\n",
      "\n",
      "For a guide to updating your code to use the new functions, please see\n",
      "https://gist.github.com/mwaskom/de44147ed2974457ad6372750bbe5751\n",
      "\n",
      "  sns.distplot(data['ApplicantIncome'], color='r')\n",
      "C:\\Users\\LENOVO\\AppData\\Local\\Temp\\ipykernel_7568\\1445803926.py:6: UserWarning: \n",
      "\n",
      "`distplot` is a deprecated function and will be removed in seaborn v0.14.0.\n",
      "\n",
      "Please adapt your code to use either `displot` (a figure-level function with\n",
      "similar flexibility) or `histplot` (an axes-level function for histograms).\n",
      "\n",
      "For a guide to updating your code to use the new functions, please see\n",
      "https://gist.github.com/mwaskom/de44147ed2974457ad6372750bbe5751\n",
      "\n",
      "  sns.distplot(data['Credit_History'])\n"
     ]
    },
    {
     "output_type": "display_data",
     "data": {
      "image/png": "[encoded data removed]",
      "text/plain": [
       "<Figure size 1200x500 with 2 Axes>"
      ]
     },
     "metadata": {}
    }
   ],
   "metadata": {}
  },
  {
   "cell_type": "code",
   "execution_count": null,
   "source": [
    "#Bivariate analysis"
   ],
   "outputs": [],
   "metadata": {}
  },
  {
   "cell_type": "code",
   "execution_count": 47,
   "source": [
    "#plottiong the count plot\r\n",
    "plt.figure(figsize=(18,4))\r\n",
    "plt.subplot(1,4,1)\r\n",
    "sns.countplot(x = data['Gender'])\r\n",
    "plt.subplot(1,4,2)\r\n",
    "sns.countplot(x = data['Education'])\r\n",
    "plt.show()"
   ],
   "outputs": [
    {
     "output_type": "display_data",
     "data": {
      "image/png": "[encoded data removed]",
      "text/plain": [
       "<Figure size 1800x400 with 2 Axes>"
      ]
     },
     "metadata": {}
    }
   ],
   "metadata": {}
  },
  {
   "cell_type": "code",
   "execution_count": 48,
   "source": [
    "plt.figure(figsize=(20,5))\r\n",
    "plt.subplot(131)\r\n",
    "sns.countplot(x=data['Married'], hue=data['Gender'])\r\n",
    "plt.subplot(132)\r\n",
    "sns.countplot(x=data['Self_Employed'], hue=data['Education'])\r\n",
    "plt.subplot(133)\r\n",
    "sns.countplot(x=data['Property_Area'], hue=data['Loan_Amount_Term'])\r\n"
   ],
   "outputs": [
    {
     "output_type": "execute_result",
     "data": {
      "text/plain": [
       "<Axes: xlabel='Property_Area', ylabel='count'>"
      ]
     },
     "metadata": {},
     "execution_count": 48
    },
    {
     "output_type": "display_data",
     "data": {
      "image/png": "[encoded data removed]",
      "text/plain": [
       "<Figure size 2000x500 with 3 Axes>"
      ]
     },
     "metadata": {}
    }
   ],
   "metadata": {}
  },
  {
   "cell_type": "code",
   "execution_count": null,
   "source": [
    "#Multivariate analysis"
   ],
   "outputs": [],
   "metadata": {}
  },
  {
   "cell_type": "code",
   "execution_count": 49,
   "source": [
    "sns.swarmplot(x=data['Gender'],y=data['ApplicantIncome'], hue = data['Loan_Status'])"
   ],
   "outputs": [
    {
     "output_type": "stream",
     "name": "stderr",
     "text": [
      "C:\\Users\\LENOVO\\AppData\\Roaming\\Python\\Python311\\site-packages\\seaborn\\categorical.py:3544: UserWarning: 45.8% of the points cannot be placed; you may want to decrease the size of the markers or use stripplot.\n",
      "  warnings.warn(msg, UserWarning)\n"
     ]
    },
    {
     "output_type": "execute_result",
     "data": {
      "text/plain": [
       "<Axes: xlabel='Gender', ylabel='ApplicantIncome'>"
      ]
     },
     "metadata": {},
     "execution_count": 49
    },
    {
     "output_type": "stream",
     "name": "stderr",
     "text": [
      "C:\\Users\\LENOVO\\AppData\\Roaming\\Python\\Python311\\site-packages\\seaborn\\categorical.py:3544: UserWarning: 61.6% of the points cannot be placed; you may want to decrease the size of the markers or use stripplot.\n",
      "  warnings.warn(msg, UserWarning)\n",
      "C:\\Users\\LENOVO\\AppData\\Roaming\\Python\\Python311\\site-packages\\seaborn\\categorical.py:3544: UserWarning: 25.0% of the points cannot be placed; you may want to decrease the size of the markers or use stripplot.\n",
      "  warnings.warn(msg, UserWarning)\n"
     ]
    },
    {
     "output_type": "display_data",
     "data": {
      "image/png": "[encoded data removed]",
      "text/plain": [
       "<Figure size 640x480 with 1 Axes>"
      ]
     },
     "metadata": {}
    }
   ],
   "metadata": {
    "scrolled": false
   }
  },
  {
   "cell_type": "code",
   "execution_count": 50,
   "source": [
    "#Encoding data\r\n",
    "from sklearn.preprocessing import LabelEncoder\r\n",
    "le = LabelEncoder()\r\n",
    "col = ['Gender','Married','Dependents','Education','Self_Employed','Property_Area','Loan_Status']\r\n",
    "for i in col:\r\n",
    "    data[i] = le.fit_transform(data[i])\r\n",
    "data.head()"
   ],
   "outputs": [
    {
     "output_type": "execute_result",
     "data": {
      "text/html": [
       "<div>\n",
       "<style scoped>\n",
       "    .dataframe tbody tr th:only-of-type {\n",
       "        vertical-align: middle;\n",
       "    }\n",
       "\n",
       "    .dataframe tbody tr th {\n",
       "        vertical-align: top;\n",
       "    }\n",
       "\n",
       "    .dataframe thead th {\n",
       "        text-align: right;\n",
       "    }\n",
       "</style>\n",
       "<table border=\"1\" class=\"dataframe\">\n",
       "  <thead>\n",
       "    <tr style=\"text-align: right;\">\n",
       "      <th></th>\n",
       "      <th>Loan_ID</th>\n",
       "      <th>Gender</th>\n",
       "      <th>Married</th>\n",
       "      <th>Dependents</th>\n",
       "      <th>Education</th>\n",
       "      <th>Self_Employed</th>\n",
       "      <th>ApplicantIncome</th>\n",
       "      <th>CoapplicantIncome</th>\n",
       "      <th>LoanAmount</th>\n",
       "      <th>Loan_Amount_Term</th>\n",
       "      <th>Credit_History</th>\n",
       "      <th>Property_Area</th>\n",
       "      <th>Loan_Status</th>\n",
       "    </tr>\n",
       "  </thead>\n",
       "  <tbody>\n",
       "    <tr>\n",
       "      <th>0</th>\n",
       "      <td>LP001002</td>\n",
       "      <td>1</td>\n",
       "      <td>0</td>\n",
       "      <td>0</td>\n",
       "      <td>0</td>\n",
       "      <td>0</td>\n",
       "      <td>5849</td>\n",
       "      <td>0</td>\n",
       "      <td>120</td>\n",
       "      <td>360</td>\n",
       "      <td>1</td>\n",
       "      <td>2</td>\n",
       "      <td>1</td>\n",
       "    </tr>\n",
       "    <tr>\n",
       "      <th>1</th>\n",
       "      <td>LP001003</td>\n",
       "      <td>1</td>\n",
       "      <td>1</td>\n",
       "      <td>1</td>\n",
       "      <td>0</td>\n",
       "      <td>0</td>\n",
       "      <td>4583</td>\n",
       "      <td>1508</td>\n",
       "      <td>128</td>\n",
       "      <td>360</td>\n",
       "      <td>1</td>\n",
       "      <td>0</td>\n",
       "      <td>0</td>\n",
       "    </tr>\n",
       "    <tr>\n",
       "      <th>2</th>\n",
       "      <td>LP001005</td>\n",
       "      <td>1</td>\n",
       "      <td>1</td>\n",
       "      <td>0</td>\n",
       "      <td>0</td>\n",
       "      <td>1</td>\n",
       "      <td>3000</td>\n",
       "      <td>0</td>\n",
       "      <td>66</td>\n",
       "      <td>360</td>\n",
       "      <td>1</td>\n",
       "      <td>2</td>\n",
       "      <td>1</td>\n",
       "    </tr>\n",
       "    <tr>\n",
       "      <th>3</th>\n",
       "      <td>LP001006</td>\n",
       "      <td>1</td>\n",
       "      <td>1</td>\n",
       "      <td>0</td>\n",
       "      <td>1</td>\n",
       "      <td>0</td>\n",
       "      <td>2583</td>\n",
       "      <td>2358</td>\n",
       "      <td>120</td>\n",
       "      <td>360</td>\n",
       "      <td>1</td>\n",
       "      <td>2</td>\n",
       "      <td>1</td>\n",
       "    </tr>\n",
       "    <tr>\n",
       "      <th>4</th>\n",
       "      <td>LP001008</td>\n",
       "      <td>1</td>\n",
       "      <td>0</td>\n",
       "      <td>0</td>\n",
       "      <td>0</td>\n",
       "      <td>0</td>\n",
       "      <td>6000</td>\n",
       "      <td>0</td>\n",
       "      <td>141</td>\n",
       "      <td>360</td>\n",
       "      <td>1</td>\n",
       "      <td>2</td>\n",
       "      <td>1</td>\n",
       "    </tr>\n",
       "  </tbody>\n",
       "</table>\n",
       "</div>"
      ],
      "text/plain": [
       "    Loan_ID  Gender  Married  Dependents  Education  Self_Employed  \\\n",
       "0  LP001002       1        0           0          0              0   \n",
       "1  LP001003       1        1           1          0              0   \n",
       "2  LP001005       1        1           0          0              1   \n",
       "3  LP001006       1        1           0          1              0   \n",
       "4  LP001008       1        0           0          0              0   \n",
       "\n",
       "   ApplicantIncome  CoapplicantIncome  LoanAmount  Loan_Amount_Term  \\\n",
       "0             5849                  0         120               360   \n",
       "1             4583               1508         128               360   \n",
       "2             3000                  0          66               360   \n",
       "3             2583               2358         120               360   \n",
       "4             6000                  0         141               360   \n",
       "\n",
       "   Credit_History  Property_Area  Loan_Status  \n",
       "0               1              2            1  \n",
       "1               1              0            0  \n",
       "2               1              2            1  \n",
       "3               1              2            1  \n",
       "4               1              2            1  "
      ]
     },
     "metadata": {},
     "execution_count": 50
    }
   ],
   "metadata": {
    "scrolled": true
   }
  },
  {
   "cell_type": "code",
   "execution_count": 51,
   "source": [
    "#Correlation Matrix\r\n",
    "plt.figure(figsize=(12,8))\r\n",
    "sns.heatmap(data.corr(), annot = True)"
   ],
   "outputs": [
    {
     "output_type": "stream",
     "name": "stderr",
     "text": [
      "C:\\Users\\LENOVO\\AppData\\Local\\Temp\\ipykernel_7568\\1439425145.py:3: FutureWarning: The default value of numeric_only in DataFrame.corr is deprecated. In a future version, it will default to False. Select only valid columns or specify the value of numeric_only to silence this warning.\n",
      "  sns.heatmap(data.corr(), annot = True)\n"
     ]
    },
    {
     "output_type": "execute_result",
     "data": {
      "text/plain": [
       "<Axes: >"
      ]
     },
     "metadata": {},
     "execution_count": 51
    },
    {
     "output_type": "display_data",
     "data": {
      "image/png": "[encoded data removed]",
      "text/plain": [
       "<Figure size 1200x800 with 2 Axes>"
      ]
     },
     "metadata": {}
    }
   ],
   "metadata": {}
  },
  {
   "cell_type": "code",
   "execution_count": 52,
   "source": [
    "#Separating Features and Outcomes\r\n",
    "X = data.loc[:,'Gender':'Property_Area'].values\r\n",
    "Y = data.loc[:,'Loan_Status'].values"
   ],
   "outputs": [],
   "metadata": {}
  },
  {
   "cell_type": "code",
   "execution_count": 53,
   "source": [
    "# scaling the data\r\n",
    "# perfomimg features scaling opration using standard scaller on x part of the dataset because\r\n",
    "# there different type of values in the columns\r\n",
    "#Scaling the featues\r\n",
    "from sklearn.preprocessing import StandardScaler\r\n",
    "sc = StandardScaler()\r\n",
    "X_train = sc.fit_transform(X_train)\r\n",
    "X_test = sc.fit_transform(X_test)"
   ],
   "outputs": [],
   "metadata": {}
  },
  {
   "cell_type": "code",
   "execution_count": 54,
   "source": [
    "# SPLITTING DATASET INTO TRAINING DATA"
   ],
   "outputs": [],
   "metadata": {}
  },
  {
   "cell_type": "code",
   "execution_count": 55,
   "source": [
    "#Splitting dataset into Training and Test Data\r\n",
    "from sklearn.model_selection import train_test_split \r\n",
    "X_train,X_test,Y_train,Y_test = train_test_split(X, Y, test_size = 0.2, random_state = 42)"
   ],
   "outputs": [],
   "metadata": {}
  },
  {
   "cell_type": "code",
   "execution_count": null,
   "source": [
    "# scaling the features"
   ],
   "outputs": [],
   "metadata": {}
  },
  {
   "cell_type": "code",
   "execution_count": 56,
   "source": [
    "# model building"
   ],
   "outputs": [],
   "metadata": {}
  },
  {
   "cell_type": "code",
   "execution_count": null,
   "source": [
    "#activity 1 \r\n",
    "# Decision Tree model"
   ],
   "outputs": [],
   "metadata": {}
  },
  {
   "cell_type": "code",
   "execution_count": 139,
   "source": [
    "from sklearn.tree import DecisionTreeClassifier\r\n",
    "def decisionTree(x_train,x_test, y_train, y_test):\r\n",
    "    dt=DecisionTreeClassifier()\r\n",
    "    dt.fit(x_train,y_train)\r\n",
    "    yPred = dt.predict(x_test)\r\n",
    "    print('***DecisionTreeClassifier***')\r\n",
    "    print('Confusion matrix')\r\n",
    "    print(confusion_matrix(y_test,yPred))\r\n",
    "    print('Classfication report')\r\n",
    "    print(classification_report(y_test,yPred))\r\n"
   ],
   "outputs": [],
   "metadata": {}
  },
  {
   "cell_type": "code",
   "execution_count": 58,
   "source": [
    "#Random Forest model\r\n",
    "def randomForest(x_train,x_test, y_train, y_test):\r\n",
    "    rf=RandomForestClassifier()\r\n",
    "    rf.fit(x_train,y_train)\r\n",
    "    yPred = rf.predict(x_test)\r\n",
    "    print('***RandomForestClassifier***')\r\n",
    "    print('Confusion matrix')\r\n",
    "    print(confusion_matrix(y_test,yPred))\r\n",
    "    print('Classfication report')\r\n",
    "    print(classification_report(y_test,yPred))"
   ],
   "outputs": [],
   "metadata": {}
  },
  {
   "cell_type": "code",
   "execution_count": 143,
   "source": [
    "# KNN Model\r\n",
    "def KNN(x_train,x_test, y_train, y_test):\r\n",
    "    Knn=KNeighborsClassifier()\r\n",
    "    Knn.fit(x_train,y_train)\r\n",
    "    yPred = Knn.predict(x_test)\r\n",
    "    print('***KNeighborsClassifier***')\r\n",
    "    print('Confusion matrix')\r\n",
    "    print(confusion_matrix(y_test,yPred))\r\n",
    "    print('Classfication report')\r\n",
    "    print(classification_report(y_test,yPred))"
   ],
   "outputs": [],
   "metadata": {}
  },
  {
   "cell_type": "code",
   "execution_count": 60,
   "source": [
    "# Xgboost model\r\n",
    "def Xgboost(x_train,x_test, y_train, y_test):\r\n",
    "    xg=GradientBoostingClassifier()\r\n",
    "    xg.fit(x_train,y_train)\r\n",
    "    yPred = xg.predict(x_test)\r\n",
    "    print('***GradientBoostingClassifier***')\r\n",
    "    print('Confusion matrix')\r\n",
    "    print(confusion_matrix(y_test,yPred))\r\n",
    "    print('Classfication report')\r\n",
    "    print(classification_report(y_test,yPred))"
   ],
   "outputs": [],
   "metadata": {}
  },
  {
   "cell_type": "code",
   "execution_count": 61,
   "source": [
    "#ANN model\r\n",
    "# importing the keras libraries and packages\r\n",
    "import tensorflow\r\n",
    "from tensorflow.keras.models import Sequential\r\n",
    "from tensorflow.keras.layers import Dense"
   ],
   "outputs": [],
   "metadata": {}
  },
  {
   "cell_type": "code",
   "execution_count": 62,
   "source": [
    "# Initializing the ANN\r\n",
    "classifier = Sequential()"
   ],
   "outputs": [],
   "metadata": {}
  },
  {
   "cell_type": "code",
   "execution_count": 63,
   "source": [
    "# Adding the input layer and the first hidden layer\r\n",
    "classifier.add(Dense(units=100, activation='relu', input_dim=11))"
   ],
   "outputs": [],
   "metadata": {}
  },
  {
   "cell_type": "code",
   "execution_count": 64,
   "source": [
    "# Adding Second hidden layer \r\n",
    "classifier.add(Dense(units=50, activation='relu'))"
   ],
   "outputs": [],
   "metadata": {}
  },
  {
   "cell_type": "code",
   "execution_count": 65,
   "source": [
    "# Adding the output layer\r\n",
    "classifier.add(Dense(units=1, activation='sigmoid'))"
   ],
   "outputs": [],
   "metadata": {}
  },
  {
   "cell_type": "code",
   "execution_count": 66,
   "source": [
    "# compiling the ANN\r\n",
    "classifier.compile(optimizer='adam', loss='binary_crossentropy', metrics=['accuracy'])"
   ],
   "outputs": [],
   "metadata": {}
  },
  {
   "cell_type": "code",
   "execution_count": 67,
   "source": [
    " #fitting the ANN to the training set\r\n",
    "    #Splitting dataset into Training and Test Data\r\n",
    "from sklearn.model_selection import train_test_split \r\n",
    "X_train,X_test,Y_train,Y_test = train_test_split(X, Y, test_size = 0.33, random_state = 42)\r\n",
    "model_history = classifier.fit(X_train, Y_train, batch_size=100, validation_split=0.2, epochs=100)"
   ],
   "outputs": [
    {
     "output_type": "stream",
     "name": "stdout",
     "text": [
      "Epoch 1/100\n",
      "4/4 [==============================] - 5s 219ms/step - loss: 151.2347 - accuracy: 0.5701 - val_loss: 57.7770 - val_accuracy: 0.7229\n",
      "Epoch 2/100\n",
      "4/4 [==============================] - 0s 36ms/step - loss: 57.9060 - accuracy: 0.6128 - val_loss: 19.3009 - val_accuracy: 0.4578\n",
      "Epoch 3/100\n",
      "4/4 [==============================] - 0s 36ms/step - loss: 22.8396 - accuracy: 0.6372 - val_loss: 25.1245 - val_accuracy: 0.5422\n",
      "Epoch 4/100\n",
      "4/4 [==============================] - 0s 42ms/step - loss: 24.3232 - accuracy: 0.5244 - val_loss: 7.2956 - val_accuracy: 0.6024\n",
      "Epoch 5/100\n",
      "4/4 [==============================] - 0s 42ms/step - loss: 12.4354 - accuracy: 0.5488 - val_loss: 14.1529 - val_accuracy: 0.7349\n",
      "Epoch 6/100\n",
      "4/4 [==============================] - 0s 36ms/step - loss: 17.1968 - accuracy: 0.6677 - val_loss: 12.0885 - val_accuracy: 0.5181\n",
      "Epoch 7/100\n",
      "4/4 [==============================] - 0s 47ms/step - loss: 11.3064 - accuracy: 0.6250 - val_loss: 8.0244 - val_accuracy: 0.4819\n",
      "Epoch 8/100\n",
      "4/4 [==============================] - 0s 47ms/step - loss: 10.0333 - accuracy: 0.5305 - val_loss: 10.8763 - val_accuracy: 0.7349\n",
      "Epoch 9/100\n",
      "4/4 [==============================] - 0s 42ms/step - loss: 10.4128 - accuracy: 0.6341 - val_loss: 8.9644 - val_accuracy: 0.7349\n",
      "Epoch 10/100\n",
      "4/4 [==============================] - 0s 42ms/step - loss: 11.6116 - accuracy: 0.6982 - val_loss: 5.4162 - val_accuracy: 0.4940\n",
      "Epoch 11/100\n",
      "4/4 [==============================] - 0s 36ms/step - loss: 7.7477 - accuracy: 0.6402 - val_loss: 8.7899 - val_accuracy: 0.5783\n",
      "Epoch 12/100\n",
      "4/4 [==============================] - 0s 57ms/step - loss: 6.6516 - accuracy: 0.5091 - val_loss: 5.9021 - val_accuracy: 0.7229\n",
      "Epoch 13/100\n",
      "4/4 [==============================] - 0s 42ms/step - loss: 13.3212 - accuracy: 0.6006 - val_loss: 11.6968 - val_accuracy: 0.7229\n",
      "Epoch 14/100\n",
      "4/4 [==============================] - 0s 42ms/step - loss: 9.0691 - accuracy: 0.6463 - val_loss: 7.2456 - val_accuracy: 0.7108\n",
      "Epoch 15/100\n",
      "4/4 [==============================] - 0s 47ms/step - loss: 13.2033 - accuracy: 0.6433 - val_loss: 9.2081 - val_accuracy: 0.4940\n",
      "Epoch 16/100\n",
      "4/4 [==============================] - 0s 42ms/step - loss: 7.0063 - accuracy: 0.5732 - val_loss: 5.4677 - val_accuracy: 0.6867\n",
      "Epoch 17/100\n",
      "4/4 [==============================] - 0s 36ms/step - loss: 11.1221 - accuracy: 0.6037 - val_loss: 12.2612 - val_accuracy: 0.7229\n",
      "Epoch 18/100\n",
      "4/4 [==============================] - 0s 47ms/step - loss: 13.2319 - accuracy: 0.6402 - val_loss: 7.6722 - val_accuracy: 0.7229\n",
      "Epoch 19/100\n",
      "4/4 [==============================] - 0s 36ms/step - loss: 17.3645 - accuracy: 0.7012 - val_loss: 13.4655 - val_accuracy: 0.2892\n",
      "Epoch 20/100\n",
      "4/4 [==============================] - 0s 42ms/step - loss: 14.8611 - accuracy: 0.4726 - val_loss: 27.6252 - val_accuracy: 0.7229\n",
      "Epoch 21/100\n",
      "4/4 [==============================] - 0s 42ms/step - loss: 23.9787 - accuracy: 0.6799 - val_loss: 18.4632 - val_accuracy: 0.3976\n",
      "Epoch 22/100\n",
      "4/4 [==============================] - 0s 73ms/step - loss: 12.9162 - accuracy: 0.6463 - val_loss: 9.5150 - val_accuracy: 0.7349\n",
      "Epoch 23/100\n",
      "4/4 [==============================] - 0s 57ms/step - loss: 9.0663 - accuracy: 0.5274 - val_loss: 10.3120 - val_accuracy: 0.7349\n",
      "Epoch 24/100\n",
      "4/4 [==============================] - 0s 47ms/step - loss: 10.0342 - accuracy: 0.5976 - val_loss: 13.3175 - val_accuracy: 0.7229\n",
      "Epoch 25/100\n",
      "4/4 [==============================] - 0s 57ms/step - loss: 14.6973 - accuracy: 0.7073 - val_loss: 11.2032 - val_accuracy: 0.3012\n",
      "Epoch 26/100\n",
      "4/4 [==============================] - 0s 52ms/step - loss: 6.7799 - accuracy: 0.4878 - val_loss: 3.6024 - val_accuracy: 0.7229\n",
      "Epoch 27/100\n",
      "4/4 [==============================] - 0s 57ms/step - loss: 7.1166 - accuracy: 0.6037 - val_loss: 8.4858 - val_accuracy: 0.7349\n",
      "Epoch 28/100\n",
      "4/4 [==============================] - 0s 63ms/step - loss: 8.5493 - accuracy: 0.5793 - val_loss: 8.9570 - val_accuracy: 0.7349\n",
      "Epoch 29/100\n",
      "4/4 [==============================] - 0s 47ms/step - loss: 5.7294 - accuracy: 0.6280 - val_loss: 4.9097 - val_accuracy: 0.7229\n",
      "Epoch 30/100\n",
      "4/4 [==============================] - 0s 73ms/step - loss: 4.3050 - accuracy: 0.5701 - val_loss: 8.3794 - val_accuracy: 0.7349\n",
      "Epoch 31/100\n",
      "4/4 [==============================] - 0s 47ms/step - loss: 7.8092 - accuracy: 0.5579 - val_loss: 7.4432 - val_accuracy: 0.7229\n",
      "Epoch 32/100\n",
      "4/4 [==============================] - 0s 47ms/step - loss: 5.4318 - accuracy: 0.6341 - val_loss: 10.0589 - val_accuracy: 0.7229\n",
      "Epoch 33/100\n",
      "4/4 [==============================] - 0s 52ms/step - loss: 9.3658 - accuracy: 0.6159 - val_loss: 6.7578 - val_accuracy: 0.7349\n",
      "Epoch 34/100\n",
      "4/4 [==============================] - 0s 73ms/step - loss: 9.6726 - accuracy: 0.7012 - val_loss: 11.1471 - val_accuracy: 0.5060\n",
      "Epoch 35/100\n",
      "4/4 [==============================] - 0s 47ms/step - loss: 8.5218 - accuracy: 0.5976 - val_loss: 17.8949 - val_accuracy: 0.7349\n",
      "Epoch 36/100\n",
      "4/4 [==============================] - 0s 52ms/step - loss: 17.9272 - accuracy: 0.5610 - val_loss: 6.1821 - val_accuracy: 0.5783\n",
      "Epoch 37/100\n",
      "4/4 [==============================] - 0s 42ms/step - loss: 10.2162 - accuracy: 0.6006 - val_loss: 3.1114 - val_accuracy: 0.6386\n",
      "Epoch 38/100\n",
      "4/4 [==============================] - 0s 42ms/step - loss: 5.5950 - accuracy: 0.6280 - val_loss: 6.9193 - val_accuracy: 0.7349\n",
      "Epoch 39/100\n",
      "4/4 [==============================] - 0s 42ms/step - loss: 7.8032 - accuracy: 0.5884 - val_loss: 5.7358 - val_accuracy: 0.7108\n",
      "Epoch 40/100\n",
      "4/4 [==============================] - 0s 52ms/step - loss: 8.0750 - accuracy: 0.5640 - val_loss: 5.8853 - val_accuracy: 0.7229\n",
      "Epoch 41/100\n",
      "4/4 [==============================] - 0s 47ms/step - loss: 9.3165 - accuracy: 0.6037 - val_loss: 13.3055 - val_accuracy: 0.7229\n",
      "Epoch 42/100\n",
      "4/4 [==============================] - 0s 52ms/step - loss: 20.8192 - accuracy: 0.7012 - val_loss: 14.4954 - val_accuracy: 0.2892\n",
      "Epoch 43/100\n",
      "4/4 [==============================] - 0s 52ms/step - loss: 15.6535 - accuracy: 0.4268 - val_loss: 17.2359 - val_accuracy: 0.7229\n",
      "Epoch 44/100\n",
      "4/4 [==============================] - 0s 52ms/step - loss: 13.7365 - accuracy: 0.6890 - val_loss: 18.0828 - val_accuracy: 0.3976\n",
      "Epoch 45/100\n",
      "4/4 [==============================] - 0s 73ms/step - loss: 11.0540 - accuracy: 0.5579 - val_loss: 12.6674 - val_accuracy: 0.7229\n",
      "Epoch 46/100\n",
      "4/4 [==============================] - 0s 63ms/step - loss: 10.2332 - accuracy: 0.6311 - val_loss: 5.8500 - val_accuracy: 0.7229\n",
      "Epoch 47/100\n",
      "4/4 [==============================] - 0s 42ms/step - loss: 8.6246 - accuracy: 0.6951 - val_loss: 4.6140 - val_accuracy: 0.4096\n",
      "Epoch 48/100\n",
      "4/4 [==============================] - 0s 52ms/step - loss: 13.1917 - accuracy: 0.5915 - val_loss: 9.0345 - val_accuracy: 0.4458\n",
      "Epoch 49/100\n",
      "4/4 [==============================] - 0s 42ms/step - loss: 18.4527 - accuracy: 0.4726 - val_loss: 18.1317 - val_accuracy: 0.7229\n",
      "Epoch 50/100\n",
      "4/4 [==============================] - 0s 42ms/step - loss: 20.4663 - accuracy: 0.7104 - val_loss: 13.9613 - val_accuracy: 0.3614\n",
      "Epoch 51/100\n",
      "4/4 [==============================] - 0s 36ms/step - loss: 14.7772 - accuracy: 0.4878 - val_loss: 19.7316 - val_accuracy: 0.7349\n",
      "Epoch 52/100\n",
      "4/4 [==============================] - 0s 52ms/step - loss: 13.9622 - accuracy: 0.6616 - val_loss: 6.7617 - val_accuracy: 0.3614\n",
      "Epoch 53/100\n",
      "4/4 [==============================] - 0s 42ms/step - loss: 12.6737 - accuracy: 0.6220 - val_loss: 11.1336 - val_accuracy: 0.7349\n",
      "Epoch 54/100\n",
      "4/4 [==============================] - 0s 36ms/step - loss: 9.4250 - accuracy: 0.5579 - val_loss: 10.1857 - val_accuracy: 0.7349\n",
      "Epoch 55/100\n",
      "4/4 [==============================] - 0s 36ms/step - loss: 10.6451 - accuracy: 0.6951 - val_loss: 20.6840 - val_accuracy: 0.4819\n",
      "Epoch 56/100\n",
      "4/4 [==============================] - 0s 36ms/step - loss: 17.3679 - accuracy: 0.5366 - val_loss: 20.7055 - val_accuracy: 0.7229\n",
      "Epoch 57/100\n",
      "4/4 [==============================] - 0s 42ms/step - loss: 17.7375 - accuracy: 0.6860 - val_loss: 14.7111 - val_accuracy: 0.2892\n",
      "Epoch 58/100\n",
      "4/4 [==============================] - 0s 36ms/step - loss: 11.3984 - accuracy: 0.5579 - val_loss: 9.6022 - val_accuracy: 0.7229\n"
     ]
    },
    {
     "output_type": "stream",
     "name": "stdout",
     "text": [
      "Epoch 59/100\n",
      "4/4 [==============================] - 0s 47ms/step - loss: 9.1796 - accuracy: 0.5488 - val_loss: 9.4960 - val_accuracy: 0.7229\n",
      "Epoch 60/100\n",
      "4/4 [==============================] - 0s 36ms/step - loss: 8.3573 - accuracy: 0.5884 - val_loss: 4.6762 - val_accuracy: 0.6988\n",
      "Epoch 61/100\n",
      "4/4 [==============================] - 0s 36ms/step - loss: 8.0557 - accuracy: 0.7043 - val_loss: 19.9747 - val_accuracy: 0.4337\n",
      "Epoch 62/100\n",
      "4/4 [==============================] - 0s 36ms/step - loss: 18.0177 - accuracy: 0.4878 - val_loss: 23.4005 - val_accuracy: 0.7229\n",
      "Epoch 63/100\n",
      "4/4 [==============================] - 0s 36ms/step - loss: 25.3886 - accuracy: 0.7104 - val_loss: 3.1838 - val_accuracy: 0.4940\n",
      "Epoch 64/100\n",
      "4/4 [==============================] - 0s 31ms/step - loss: 7.3363 - accuracy: 0.5335 - val_loss: 8.2623 - val_accuracy: 0.7349\n",
      "Epoch 65/100\n",
      "4/4 [==============================] - 0s 36ms/step - loss: 5.6077 - accuracy: 0.6220 - val_loss: 8.2092 - val_accuracy: 0.7229\n",
      "Epoch 66/100\n",
      "4/4 [==============================] - 0s 36ms/step - loss: 6.3021 - accuracy: 0.6372 - val_loss: 10.8591 - val_accuracy: 0.7229\n",
      "Epoch 67/100\n",
      "4/4 [==============================] - 0s 52ms/step - loss: 12.0650 - accuracy: 0.7043 - val_loss: 15.2191 - val_accuracy: 0.2892\n",
      "Epoch 68/100\n",
      "4/4 [==============================] - 0s 52ms/step - loss: 11.0766 - accuracy: 0.5030 - val_loss: 5.6105 - val_accuracy: 0.7229\n",
      "Epoch 69/100\n",
      "4/4 [==============================] - 0s 47ms/step - loss: 8.4658 - accuracy: 0.6037 - val_loss: 8.5738 - val_accuracy: 0.7229\n",
      "Epoch 70/100\n",
      "4/4 [==============================] - 0s 36ms/step - loss: 6.7322 - accuracy: 0.6585 - val_loss: 3.3991 - val_accuracy: 0.6988\n",
      "Epoch 71/100\n",
      "4/4 [==============================] - 0s 42ms/step - loss: 2.6893 - accuracy: 0.6616 - val_loss: 7.1134 - val_accuracy: 0.7229\n",
      "Epoch 72/100\n",
      "4/4 [==============================] - 0s 47ms/step - loss: 5.9959 - accuracy: 0.7043 - val_loss: 4.0702 - val_accuracy: 0.4458\n",
      "Epoch 73/100\n",
      "4/4 [==============================] - 0s 42ms/step - loss: 10.6309 - accuracy: 0.6524 - val_loss: 18.8918 - val_accuracy: 0.7349\n",
      "Epoch 74/100\n",
      "4/4 [==============================] - 0s 36ms/step - loss: 17.5677 - accuracy: 0.6037 - val_loss: 3.5511 - val_accuracy: 0.5783\n",
      "Epoch 75/100\n",
      "4/4 [==============================] - 0s 42ms/step - loss: 13.5774 - accuracy: 0.6250 - val_loss: 9.5011 - val_accuracy: 0.5422\n",
      "Epoch 76/100\n",
      "4/4 [==============================] - 0s 42ms/step - loss: 13.9505 - accuracy: 0.5457 - val_loss: 10.7933 - val_accuracy: 0.7349\n",
      "Epoch 77/100\n",
      "4/4 [==============================] - 0s 36ms/step - loss: 13.1760 - accuracy: 0.6677 - val_loss: 8.3608 - val_accuracy: 0.4337\n",
      "Epoch 78/100\n",
      "4/4 [==============================] - 0s 42ms/step - loss: 9.5661 - accuracy: 0.5640 - val_loss: 7.5819 - val_accuracy: 0.5060\n",
      "Epoch 79/100\n",
      "4/4 [==============================] - 0s 31ms/step - loss: 8.7820 - accuracy: 0.6098 - val_loss: 3.0687 - val_accuracy: 0.6265\n",
      "Epoch 80/100\n",
      "4/4 [==============================] - 0s 36ms/step - loss: 3.5620 - accuracy: 0.5488 - val_loss: 4.7510 - val_accuracy: 0.6867\n",
      "Epoch 81/100\n",
      "4/4 [==============================] - 0s 36ms/step - loss: 5.8727 - accuracy: 0.5579 - val_loss: 6.1773 - val_accuracy: 0.7229\n",
      "Epoch 82/100\n",
      "4/4 [==============================] - 0s 47ms/step - loss: 5.1574 - accuracy: 0.6494 - val_loss: 7.9539 - val_accuracy: 0.7229\n",
      "Epoch 83/100\n",
      "4/4 [==============================] - 0s 36ms/step - loss: 8.2588 - accuracy: 0.6829 - val_loss: 2.3998 - val_accuracy: 0.6988\n",
      "Epoch 84/100\n",
      "4/4 [==============================] - 0s 42ms/step - loss: 5.3478 - accuracy: 0.6799 - val_loss: 5.2319 - val_accuracy: 0.5422\n",
      "Epoch 85/100\n",
      "4/4 [==============================] - 0s 36ms/step - loss: 3.5753 - accuracy: 0.6646 - val_loss: 2.6153 - val_accuracy: 0.5542\n",
      "Epoch 86/100\n",
      "4/4 [==============================] - 0s 36ms/step - loss: 3.7368 - accuracy: 0.6220 - val_loss: 23.2505 - val_accuracy: 0.3373\n",
      "Epoch 87/100\n",
      "4/4 [==============================] - 0s 36ms/step - loss: 18.9055 - accuracy: 0.4817 - val_loss: 17.1951 - val_accuracy: 0.7229\n",
      "Epoch 88/100\n",
      "4/4 [==============================] - 0s 42ms/step - loss: 15.2849 - accuracy: 0.6433 - val_loss: 2.0266 - val_accuracy: 0.6627\n",
      "Epoch 89/100\n",
      "4/4 [==============================] - 0s 36ms/step - loss: 5.9415 - accuracy: 0.6311 - val_loss: 5.1662 - val_accuracy: 0.3855\n",
      "Epoch 90/100\n",
      "4/4 [==============================] - 0s 42ms/step - loss: 6.9895 - accuracy: 0.6098 - val_loss: 11.3779 - val_accuracy: 0.4819\n",
      "Epoch 91/100\n",
      "4/4 [==============================] - 0s 36ms/step - loss: 8.8816 - accuracy: 0.6006 - val_loss: 7.0924 - val_accuracy: 0.7229\n",
      "Epoch 92/100\n",
      "4/4 [==============================] - 0s 36ms/step - loss: 4.5707 - accuracy: 0.5854 - val_loss: 9.2594 - val_accuracy: 0.7229\n",
      "Epoch 93/100\n",
      "4/4 [==============================] - 0s 36ms/step - loss: 5.9625 - accuracy: 0.6463 - val_loss: 4.9104 - val_accuracy: 0.4217\n",
      "Epoch 94/100\n",
      "4/4 [==============================] - 0s 36ms/step - loss: 5.3928 - accuracy: 0.6646 - val_loss: 2.1057 - val_accuracy: 0.6145\n",
      "Epoch 95/100\n",
      "4/4 [==============================] - 0s 47ms/step - loss: 4.1424 - accuracy: 0.6037 - val_loss: 4.8764 - val_accuracy: 0.7470\n",
      "Epoch 96/100\n",
      "4/4 [==============================] - 0s 42ms/step - loss: 4.7089 - accuracy: 0.6372 - val_loss: 7.9351 - val_accuracy: 0.7229\n",
      "Epoch 97/100\n",
      "4/4 [==============================] - 0s 36ms/step - loss: 9.0130 - accuracy: 0.6921 - val_loss: 2.1371 - val_accuracy: 0.7349\n",
      "Epoch 98/100\n",
      "4/4 [==============================] - 0s 47ms/step - loss: 2.8605 - accuracy: 0.6921 - val_loss: 10.1133 - val_accuracy: 0.3614\n",
      "Epoch 99/100\n",
      "4/4 [==============================] - 0s 42ms/step - loss: 6.0731 - accuracy: 0.6128 - val_loss: 3.7910 - val_accuracy: 0.7229\n",
      "Epoch 100/100\n",
      "4/4 [==============================] - 0s 36ms/step - loss: 6.0266 - accuracy: 0.5823 - val_loss: 5.4408 - val_accuracy: 0.7229\n"
     ]
    }
   ],
   "metadata": {}
  },
  {
   "cell_type": "code",
   "execution_count": 68,
   "source": [
    "#testing the model Gender Married Dependents Education Self_Employed ApplicantIncome CoapplicantIncome LoanAmount Loan_Amount_Term Credit_History\r\n",
    "from sklearn.tree import DecisionTreeClassifier\r\n",
    "dt=DecisionTreeClassifier()\r\n",
    "dt.fit(X_train,Y_train)\r\n",
    "dt.predict([[1,1, 0, 1, 1, 4276, 1542, 145, 240, 0,1]])"
   ],
   "outputs": [
    {
     "output_type": "execute_result",
     "data": {
      "text/plain": [
       "array([0])"
      ]
     },
     "metadata": {},
     "execution_count": 68
    }
   ],
   "metadata": {}
  },
  {
   "cell_type": "code",
   "execution_count": 72,
   "source": [
    "#testing the model Gender Married Dependents Education Self_Employed ApplicantIncome CoapplicantIncome LoanAmount Loan_Amount_Term Credit_History\r\n",
    "rf=RandomForestClassifier()\r\n",
    "rf.fit(X_train,Y_train)\r\n",
    "rf.predict([[1,1, 0, 1, 1, 4276, 1542,145, 240, 0,1]])"
   ],
   "outputs": [
    {
     "output_type": "execute_result",
     "data": {
      "text/plain": [
       "array([0])"
      ]
     },
     "metadata": {},
     "execution_count": 72
    }
   ],
   "metadata": {}
  },
  {
   "cell_type": "code",
   "execution_count": 71,
   "source": [
    "#testing the model Gender Married Dependents Education Self_Employed ApplicantIncome CoapplicantIncome LoanAmount Loan_Amount_Term Credit_History\r\n",
    "Knn=KNeighborsClassifier()\r\n",
    "Knn.fit(X_train,Y_train)\r\n",
    "Knn.predict([[1,1, 0, 1, 1, 4276, 1542,145, 240, 0,1]])"
   ],
   "outputs": [
    {
     "output_type": "execute_result",
     "data": {
      "text/plain": [
       "array([1])"
      ]
     },
     "metadata": {},
     "execution_count": 71
    }
   ],
   "metadata": {}
  },
  {
   "cell_type": "code",
   "execution_count": 75,
   "source": [
    "#testing the model Gender Married Dependents Education Self_Employed ApplicantIncome CoapplicantIncome LoanAmount Loan_Amount_Term Credit_History\r\n",
    "xg=GradientBoostingClassifier()\r\n",
    "xg.fit(X_train,Y_train)\r\n",
    "xg.predict([[1,1, 0, 1, 1, 4276, 1542,145, 240, 0,1]])"
   ],
   "outputs": [
    {
     "output_type": "execute_result",
     "data": {
      "text/plain": [
       "array([0])"
      ]
     },
     "metadata": {},
     "execution_count": 75
    }
   ],
   "metadata": {}
  },
  {
   "cell_type": "code",
   "execution_count": 76,
   "source": [
    "classifier.save(\"loan.h5\")"
   ],
   "outputs": [],
   "metadata": {}
  },
  {
   "cell_type": "code",
   "execution_count": 77,
   "source": [
    "# predicting the test set results\r\n",
    "y_pred = classifier.predict(X_test)"
   ],
   "outputs": [
    {
     "output_type": "stream",
     "name": "stdout",
     "text": [
      "7/7 [==============================] - 0s 8ms/step\n"
     ]
    }
   ],
   "metadata": {}
  },
  {
   "cell_type": "code",
   "execution_count": 89,
   "source": [
    " y_pred"
   ],
   "outputs": [
    {
     "output_type": "execute_result",
     "data": {
      "text/plain": [
       "array([[1.        ],\n",
       "       [0.9999957 ],\n",
       "       [0.9999742 ],\n",
       "       [0.9952743 ],\n",
       "       [0.98764664],\n",
       "       [1.        ],\n",
       "       [0.99997   ],\n",
       "       [0.99380857],\n",
       "       [0.970412  ],\n",
       "       [1.        ],\n",
       "       [0.99999684],\n",
       "       [0.9999753 ],\n",
       "       [0.9998726 ],\n",
       "       [0.9983692 ],\n",
       "       [1.        ],\n",
       "       [1.        ],\n",
       "       [0.95322037],\n",
       "       [1.        ],\n",
       "       [0.98341936],\n",
       "       [0.9999999 ],\n",
       "       [0.94184965],\n",
       "       [0.9999928 ],\n",
       "       [0.9999945 ],\n",
       "       [1.        ],\n",
       "       [1.        ],\n",
       "       [0.99057037],\n",
       "       [0.9999999 ],\n",
       "       [0.9998659 ],\n",
       "       [0.9999994 ],\n",
       "       [0.999999  ],\n",
       "       [0.9997899 ],\n",
       "       [1.        ],\n",
       "       [0.9990706 ],\n",
       "       [1.        ],\n",
       "       [1.        ],\n",
       "       [1.        ],\n",
       "       [0.9998631 ],\n",
       "       [1.        ],\n",
       "       [0.9985259 ],\n",
       "       [1.        ],\n",
       "       [0.9999999 ],\n",
       "       [1.        ],\n",
       "       [1.        ],\n",
       "       [0.99999607],\n",
       "       [1.        ],\n",
       "       [0.99998534],\n",
       "       [0.9999998 ],\n",
       "       [0.99984246],\n",
       "       [0.9960222 ],\n",
       "       [0.9999982 ],\n",
       "       [0.6542652 ],\n",
       "       [1.        ],\n",
       "       [0.9999986 ],\n",
       "       [0.9996125 ],\n",
       "       [1.        ],\n",
       "       [0.99213135],\n",
       "       [0.9996687 ],\n",
       "       [1.        ],\n",
       "       [0.9997232 ],\n",
       "       [1.        ],\n",
       "       [1.        ],\n",
       "       [0.9999999 ],\n",
       "       [1.        ],\n",
       "       [1.        ],\n",
       "       [0.99812293],\n",
       "       [1.        ],\n",
       "       [0.99308926],\n",
       "       [1.        ],\n",
       "       [0.99999976],\n",
       "       [1.        ],\n",
       "       [0.9778895 ],\n",
       "       [0.99577856],\n",
       "       [0.9999538 ],\n",
       "       [0.9994838 ],\n",
       "       [0.99980354],\n",
       "       [0.99397475],\n",
       "       [0.9999987 ],\n",
       "       [0.9999991 ],\n",
       "       [0.99519455],\n",
       "       [0.99988455],\n",
       "       [0.99315834],\n",
       "       [0.99999815],\n",
       "       [1.        ],\n",
       "       [0.8687214 ],\n",
       "       [0.9999401 ],\n",
       "       [0.99992687],\n",
       "       [0.9096203 ],\n",
       "       [0.99505424],\n",
       "       [0.9998707 ],\n",
       "       [1.        ],\n",
       "       [1.        ],\n",
       "       [1.        ],\n",
       "       [1.        ],\n",
       "       [1.        ],\n",
       "       [0.99993104],\n",
       "       [0.99999887],\n",
       "       [0.986117  ],\n",
       "       [0.99950445],\n",
       "       [1.        ],\n",
       "       [0.99998593],\n",
       "       [0.99986565],\n",
       "       [0.9999449 ],\n",
       "       [0.9999451 ],\n",
       "       [1.        ],\n",
       "       [0.98919475],\n",
       "       [0.9628011 ],\n",
       "       [1.        ],\n",
       "       [0.9999969 ],\n",
       "       [0.99555445],\n",
       "       [0.9939597 ],\n",
       "       [0.9999698 ],\n",
       "       [0.98913544],\n",
       "       [0.98576754],\n",
       "       [1.        ],\n",
       "       [0.965466  ],\n",
       "       [0.9966706 ],\n",
       "       [0.99998343],\n",
       "       [0.99970907],\n",
       "       [0.99999034],\n",
       "       [0.96732557],\n",
       "       [0.99999267],\n",
       "       [0.99999666],\n",
       "       [1.        ],\n",
       "       [0.9999841 ],\n",
       "       [1.        ],\n",
       "       [1.        ],\n",
       "       [0.9999948 ],\n",
       "       [0.99994695],\n",
       "       [1.        ],\n",
       "       [0.9998503 ],\n",
       "       [0.9920471 ],\n",
       "       [0.9999028 ],\n",
       "       [1.        ],\n",
       "       [0.99999964],\n",
       "       [1.        ],\n",
       "       [0.9974623 ],\n",
       "       [1.        ],\n",
       "       [1.        ],\n",
       "       [1.        ],\n",
       "       [1.        ],\n",
       "       [0.9891813 ],\n",
       "       [0.9980231 ],\n",
       "       [0.99999446],\n",
       "       [0.        ],\n",
       "       [1.        ],\n",
       "       [0.9999895 ],\n",
       "       [1.        ],\n",
       "       [1.        ],\n",
       "       [1.        ],\n",
       "       [0.99999887],\n",
       "       [0.9988321 ],\n",
       "       [0.99378675],\n",
       "       [0.99999565],\n",
       "       [0.9987603 ],\n",
       "       [0.9964746 ],\n",
       "       [0.99880797],\n",
       "       [1.        ],\n",
       "       [0.9999994 ],\n",
       "       [0.9992676 ],\n",
       "       [0.99992174],\n",
       "       [1.        ],\n",
       "       [0.17232612],\n",
       "       [0.9998919 ],\n",
       "       [0.9999962 ],\n",
       "       [0.99841344],\n",
       "       [0.9953971 ],\n",
       "       [1.        ],\n",
       "       [0.9999396 ],\n",
       "       [1.        ],\n",
       "       [0.999975  ],\n",
       "       [1.        ],\n",
       "       [0.9999945 ],\n",
       "       [0.99999976],\n",
       "       [0.99998236],\n",
       "       [0.99999255],\n",
       "       [0.9999771 ],\n",
       "       [0.99999994],\n",
       "       [0.9651959 ],\n",
       "       [1.        ],\n",
       "       [0.9999995 ],\n",
       "       [0.9999991 ],\n",
       "       [0.99999857],\n",
       "       [1.        ],\n",
       "       [0.9999994 ],\n",
       "       [0.99999976],\n",
       "       [1.        ],\n",
       "       [1.        ],\n",
       "       [1.        ],\n",
       "       [0.9998752 ],\n",
       "       [1.        ],\n",
       "       [0.9999995 ],\n",
       "       [0.99998355],\n",
       "       [1.        ],\n",
       "       [1.        ],\n",
       "       [0.9999995 ],\n",
       "       [0.99998856],\n",
       "       [0.99975514],\n",
       "       [1.        ],\n",
       "       [0.9287395 ],\n",
       "       [0.99999964],\n",
       "       [0.9999966 ],\n",
       "       [0.99999964],\n",
       "       [0.9999951 ]], dtype=float32)"
      ]
     },
     "metadata": {},
     "execution_count": 89
    }
   ],
   "metadata": {}
  },
  {
   "cell_type": "code",
   "execution_count": 91,
   "source": [
    "y_pred = (y_pred > 0.5)\r\n",
    "y_pred"
   ],
   "outputs": [
    {
     "output_type": "execute_result",
     "data": {
      "text/plain": [
       "array([[ True],\n",
       "       [ True],\n",
       "       [ True],\n",
       "       [ True],\n",
       "       [ True],\n",
       "       [ True],\n",
       "       [ True],\n",
       "       [ True],\n",
       "       [ True],\n",
       "       [ True],\n",
       "       [ True],\n",
       "       [ True],\n",
       "       [ True],\n",
       "       [ True],\n",
       "       [ True],\n",
       "       [ True],\n",
       "       [ True],\n",
       "       [ True],\n",
       "       [ True],\n",
       "       [ True],\n",
       "       [ True],\n",
       "       [ True],\n",
       "       [ True],\n",
       "       [ True],\n",
       "       [ True],\n",
       "       [ True],\n",
       "       [ True],\n",
       "       [ True],\n",
       "       [ True],\n",
       "       [ True],\n",
       "       [ True],\n",
       "       [ True],\n",
       "       [ True],\n",
       "       [ True],\n",
       "       [ True],\n",
       "       [ True],\n",
       "       [ True],\n",
       "       [ True],\n",
       "       [ True],\n",
       "       [ True],\n",
       "       [ True],\n",
       "       [ True],\n",
       "       [ True],\n",
       "       [ True],\n",
       "       [ True],\n",
       "       [ True],\n",
       "       [ True],\n",
       "       [ True],\n",
       "       [ True],\n",
       "       [ True],\n",
       "       [ True],\n",
       "       [ True],\n",
       "       [ True],\n",
       "       [ True],\n",
       "       [ True],\n",
       "       [ True],\n",
       "       [ True],\n",
       "       [ True],\n",
       "       [ True],\n",
       "       [ True],\n",
       "       [ True],\n",
       "       [ True],\n",
       "       [ True],\n",
       "       [ True],\n",
       "       [ True],\n",
       "       [ True],\n",
       "       [ True],\n",
       "       [ True],\n",
       "       [ True],\n",
       "       [ True],\n",
       "       [ True],\n",
       "       [ True],\n",
       "       [ True],\n",
       "       [ True],\n",
       "       [ True],\n",
       "       [ True],\n",
       "       [ True],\n",
       "       [ True],\n",
       "       [ True],\n",
       "       [ True],\n",
       "       [ True],\n",
       "       [ True],\n",
       "       [ True],\n",
       "       [ True],\n",
       "       [ True],\n",
       "       [ True],\n",
       "       [ True],\n",
       "       [ True],\n",
       "       [ True],\n",
       "       [ True],\n",
       "       [ True],\n",
       "       [ True],\n",
       "       [ True],\n",
       "       [ True],\n",
       "       [ True],\n",
       "       [ True],\n",
       "       [ True],\n",
       "       [ True],\n",
       "       [ True],\n",
       "       [ True],\n",
       "       [ True],\n",
       "       [ True],\n",
       "       [ True],\n",
       "       [ True],\n",
       "       [ True],\n",
       "       [ True],\n",
       "       [ True],\n",
       "       [ True],\n",
       "       [ True],\n",
       "       [ True],\n",
       "       [ True],\n",
       "       [ True],\n",
       "       [ True],\n",
       "       [ True],\n",
       "       [ True],\n",
       "       [ True],\n",
       "       [ True],\n",
       "       [ True],\n",
       "       [ True],\n",
       "       [ True],\n",
       "       [ True],\n",
       "       [ True],\n",
       "       [ True],\n",
       "       [ True],\n",
       "       [ True],\n",
       "       [ True],\n",
       "       [ True],\n",
       "       [ True],\n",
       "       [ True],\n",
       "       [ True],\n",
       "       [ True],\n",
       "       [ True],\n",
       "       [ True],\n",
       "       [ True],\n",
       "       [ True],\n",
       "       [ True],\n",
       "       [ True],\n",
       "       [ True],\n",
       "       [ True],\n",
       "       [ True],\n",
       "       [ True],\n",
       "       [ True],\n",
       "       [ True],\n",
       "       [False],\n",
       "       [ True],\n",
       "       [ True],\n",
       "       [ True],\n",
       "       [ True],\n",
       "       [ True],\n",
       "       [ True],\n",
       "       [ True],\n",
       "       [ True],\n",
       "       [ True],\n",
       "       [ True],\n",
       "       [ True],\n",
       "       [ True],\n",
       "       [ True],\n",
       "       [ True],\n",
       "       [ True],\n",
       "       [ True],\n",
       "       [ True],\n",
       "       [False],\n",
       "       [ True],\n",
       "       [ True],\n",
       "       [ True],\n",
       "       [ True],\n",
       "       [ True],\n",
       "       [ True],\n",
       "       [ True],\n",
       "       [ True],\n",
       "       [ True],\n",
       "       [ True],\n",
       "       [ True],\n",
       "       [ True],\n",
       "       [ True],\n",
       "       [ True],\n",
       "       [ True],\n",
       "       [ True],\n",
       "       [ True],\n",
       "       [ True],\n",
       "       [ True],\n",
       "       [ True],\n",
       "       [ True],\n",
       "       [ True],\n",
       "       [ True],\n",
       "       [ True],\n",
       "       [ True],\n",
       "       [ True],\n",
       "       [ True],\n",
       "       [ True],\n",
       "       [ True],\n",
       "       [ True],\n",
       "       [ True],\n",
       "       [ True],\n",
       "       [ True],\n",
       "       [ True],\n",
       "       [ True],\n",
       "       [ True],\n",
       "       [ True],\n",
       "       [ True],\n",
       "       [ True],\n",
       "       [ True],\n",
       "       [ True]])"
      ]
     },
     "metadata": {},
     "execution_count": 91
    }
   ],
   "metadata": {}
  },
  {
   "cell_type": "code",
   "execution_count": 106,
   "source": [
    "def predict_exit(sample_value):\r\n",
    "    # convert list to numpy array\r\n",
    "    sample_value = np.array(sample_value)\r\n",
    "    # Reshape because sample_value contains 1 record\r\n",
    "    sample_value = sample_value.reshape(1, -1)\r\n",
    "    # Feature Scaling\r\n",
    "    sample_value = sc.transform(sample_value)\r\n",
    "    return classifier.predict(sample_value)"
   ],
   "outputs": [],
   "metadata": {}
  },
  {
   "cell_type": "code",
   "execution_count": 118,
   "source": [
    "# predictions\r\n",
    "# value order 'CreditScore','Age','Tenure','Balance','NumOfproducts','HasCrCard','IsActiveMember','EstimatedSalary','France','Germany','Spain','Female','Male'.\r\n",
    "import tensorflow\r\n",
    "sample_value = [[1,1, 0, 1, 1, 4276, 1542,145, 240, 0,1]]\r\n",
    "if predict_exit(sample_value)>1.0:\r\n",
    "    print('Prediction: High chance of Loan Approval!')\r\n",
    "else:\r\n",
    "    print('Prediction: low chance of Loan Approval.')"
   ],
   "outputs": [
    {
     "output_type": "stream",
     "name": "stdout",
     "text": [
      "1/1 [==============================] - 0s 47ms/step\n",
      "Prediction: low chance of Loan Approval.\n"
     ]
    }
   ],
   "metadata": {}
  },
  {
   "cell_type": "code",
   "execution_count": 116,
   "source": [
    "# predictions\r\n",
    "# value order 'CreditScore','Age','Tenure','Balance','NumOfproducts','HasCrCard','IsActiveMember','EstimatedSalary','France','Germany','Spain','Female','Male'.\r\n",
    "import tensorflow\r\n",
    "sample_value = [[1,0, 1, 1, 1, 45, 14,45, 240, 1,1]]\r\n",
    "if predict_exit(sample_value)>0.5:\r\n",
    "    print('Prediction: High chance of Loan Approval!')\r\n",
    "else:\r\n",
    "    print('Prediction: low chance of Loan Approval.')"
   ],
   "outputs": [
    {
     "output_type": "stream",
     "name": "stdout",
     "text": [
      "1/1 [==============================] - 0s 47ms/step\n",
      "Prediction: High chance of Loan Approval!\n"
     ]
    }
   ],
   "metadata": {}
  },
  {
   "cell_type": "code",
   "execution_count": 119,
   "source": [
    "# Performance Testing & Hyperparameter Tuning"
   ],
   "outputs": [],
   "metadata": {}
  },
  {
   "cell_type": "code",
   "execution_count": 144,
   "source": [
    "# compare the model\r\n",
    "def compareMdodel(X_train,X_test,y_train,y_test):\r\n",
    "    decisionTree(X_train,X_test,y_train,y_test)\r\n",
    "    print('-'*100)\r\n",
    "    randomForest(X_train,X_test,y_train,y_test)\r\n",
    "    print('-'*100)\r\n",
    "    Xgboost(X_train,X_test,y_train,y_test)\r\n",
    "    print('-'*100)\r\n",
    "    KNN(X_train,X_test,y_train,y_test)\r\n",
    "    print('-'*100)"
   ],
   "outputs": [],
   "metadata": {}
  },
  {
   "cell_type": "code",
   "execution_count": 145,
   "source": [
    "compareMdodel(X_train,X_test,Y_train,Y_test)"
   ],
   "outputs": [
    {
     "output_type": "stream",
     "name": "stdout",
     "text": [
      "***DecisionTreeClassifier***\n",
      "Confusion matrix\n",
      "[[ 34  38]\n",
      " [ 28 103]]\n",
      "Classfication report\n",
      "              precision    recall  f1-score   support\n",
      "\n",
      "           0       0.55      0.47      0.51        72\n",
      "           1       0.73      0.79      0.76       131\n",
      "\n",
      "    accuracy                           0.67       203\n",
      "   macro avg       0.64      0.63      0.63       203\n",
      "weighted avg       0.67      0.67      0.67       203\n",
      "\n",
      "----------------------------------------------------------------------------------------------------\n",
      "***RandomForestClassifier***\n",
      "Confusion matrix\n",
      "[[ 36  36]\n",
      " [  7 124]]\n",
      "Classfication report\n",
      "              precision    recall  f1-score   support\n",
      "\n",
      "           0       0.84      0.50      0.63        72\n",
      "           1       0.78      0.95      0.85       131\n",
      "\n",
      "    accuracy                           0.79       203\n",
      "   macro avg       0.81      0.72      0.74       203\n",
      "weighted avg       0.80      0.79      0.77       203\n",
      "\n",
      "----------------------------------------------------------------------------------------------------\n",
      "***GradientBoostingClassifier***\n",
      "Confusion matrix\n",
      "[[ 32  40]\n",
      " [ 10 121]]\n",
      "Classfication report\n",
      "              precision    recall  f1-score   support\n",
      "\n",
      "           0       0.76      0.44      0.56        72\n",
      "           1       0.75      0.92      0.83       131\n",
      "\n",
      "    accuracy                           0.75       203\n",
      "   macro avg       0.76      0.68      0.70       203\n",
      "weighted avg       0.76      0.75      0.73       203\n",
      "\n",
      "----------------------------------------------------------------------------------------------------\n",
      "***KNeighborsClassifier***\n",
      "Confusion matrix\n",
      "[[  8  64]\n",
      " [ 24 107]]\n",
      "Classfication report\n",
      "              precision    recall  f1-score   support\n",
      "\n",
      "           0       0.25      0.11      0.15        72\n",
      "           1       0.63      0.82      0.71       131\n",
      "\n",
      "    accuracy                           0.57       203\n",
      "   macro avg       0.44      0.46      0.43       203\n",
      "weighted avg       0.49      0.57      0.51       203\n",
      "\n",
      "----------------------------------------------------------------------------------------------------\n"
     ]
    }
   ],
   "metadata": {}
  },
  {
   "cell_type": "code",
   "execution_count": 148,
   "source": [
    "ypred = classifier.predict(X_test)\r\n",
    "print(accuracy_score(y_pred,Y_test))\r\n",
    "print(\"ANN Model\")\r\n",
    "print(\"Confusion_Matrix\")\r\n",
    "print(confusion_matrix(Y_test,y_pred))\r\n",
    "print(\"Classification Report\")\r\n",
    "print(classification_report(Y_test,y_pred))"
   ],
   "outputs": [
    {
     "output_type": "stream",
     "name": "stdout",
     "text": [
      "7/7 [==============================] - 0s 5ms/step\n",
      "0.6551724137931034\n",
      "ANN Model\n",
      "Confusion_Matrix\n",
      "[[  2  70]\n",
      " [  0 131]]\n",
      "Classification Report\n",
      "              precision    recall  f1-score   support\n",
      "\n",
      "           0       1.00      0.03      0.05        72\n",
      "           1       0.65      1.00      0.79       131\n",
      "\n",
      "    accuracy                           0.66       203\n",
      "   macro avg       0.83      0.51      0.42       203\n",
      "weighted avg       0.78      0.66      0.53       203\n",
      "\n"
     ]
    }
   ],
   "metadata": {}
  },
  {
   "cell_type": "code",
   "execution_count": null,
   "source": [
    "# comparing model accuracy before & after applying hyperparameter tuning"
   ],
   "outputs": [],
   "metadata": {}
  },
  {
   "cell_type": "code",
   "execution_count": 149,
   "source": [
    "from sklearn.model_selection import cross_val_score"
   ],
   "outputs": [],
   "metadata": {}
  },
  {
   "cell_type": "code",
   "execution_count": 155,
   "source": [
    "# Radom forest model is selected\r\n",
    "rf = RandomForestClassifier()\r\n",
    "rf.fit(X_train,Y_train)\r\n",
    "yPred = rf.predict(X_test)"
   ],
   "outputs": [],
   "metadata": {}
  },
  {
   "cell_type": "code",
   "execution_count": 158,
   "source": [
    "f1_score(y_pred,Y_test,average='weighted')"
   ],
   "outputs": [
    {
     "output_type": "execute_result",
     "data": {
      "text/plain": [
       "0.78191423662965"
      ]
     },
     "metadata": {},
     "execution_count": 158
    }
   ],
   "metadata": {}
  },
  {
   "cell_type": "code",
   "execution_count": 159,
   "source": [
    "cv = cross_val_score(rf,X,Y,cv=5)"
   ],
   "outputs": [],
   "metadata": {}
  },
  {
   "cell_type": "code",
   "execution_count": 160,
   "source": [
    "np.mean(cv)"
   ],
   "outputs": [
    {
     "output_type": "execute_result",
     "data": {
      "text/plain": [
       "0.7883113421298148"
      ]
     },
     "metadata": {},
     "execution_count": 160
    }
   ],
   "metadata": {}
  },
  {
   "cell_type": "code",
   "execution_count": 161,
   "source": [
    "#model Deployment"
   ],
   "outputs": [],
   "metadata": {}
  },
  {
   "cell_type": "code",
   "execution_count": 162,
   "source": [
    "#save the best model"
   ],
   "outputs": [],
   "metadata": {}
  },
  {
   "cell_type": "code",
   "execution_count": 164,
   "source": [
    "# saving the model by using pickle function\r\n",
    "model=randomForest\r\n",
    "pickle.dump(model,open('rdf.pkl','wb'))"
   ],
   "outputs": [],
   "metadata": {}
  },
  {
   "cell_type": "code",
   "execution_count": null,
   "source": [],
   "outputs": [],
   "metadata": {}
  }
 ],
 "metadata": {
  "kernelspec": {
   "display_name": "Python 3 (ipykernel)",
   "language": "python",
   "name": "python3"
  },
  "language_info": {
   "codemirror_mode": {
    "name": "ipython",
    "version": 3
   },
   "file_extension": ".py",
   "mimetype": "text/x-python",
   "name": "python",
   "nbconvert_exporter": "python",
   "pygments_lexer": "ipython3",
   "version": "3.11.2"
  }
 },
 "nbformat": 4,
 "nbformat_minor": 5
}